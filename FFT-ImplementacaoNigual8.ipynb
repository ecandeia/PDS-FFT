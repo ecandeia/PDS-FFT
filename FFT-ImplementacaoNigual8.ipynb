{
 "cells": [
  {
   "cell_type": "markdown",
   "metadata": {},
   "source": [
    "# Transformada Rápida de Fourier"
   ]
  },
  {
   "cell_type": "markdown",
   "metadata": {},
   "source": [
    "Nesse texto vamos nos atentar na implementação do algoritmo Raiz de 2 para $N = 8$, o objetivo é ajudar na forma de ajustar as variações das variáveis internas à implementação.\n",
    "\n",
    "Para tanto, vamos utilizar as equações para a borboleta otimizada que foi apresentada no Livro do Oppenheim, Fig 9.12, página 43), repetida a seguir.\n",
    "\n",
    "![title](img/BorboletaOtimizada.png)\n",
    "\n",
    "com as respectivas equações\n",
    "\n",
    "$$X_m[p] = X_{m-1}[p] + W_n^rX_{m-1}[q]q$$\n",
    "\n",
    "$$X_m[q] = X_{m-1}[p] - W_n^rX_{m-1}[q]q$$\n",
    "\n",
    "e avaliar como variam $m$, $p$, $q$ e $r$ para um dado $N$. Vamos esboçar a treliçã nos concentrando em ilustrar os valores dessas variáveis (não representaremos os $W_n^r$ nesse momento).\n",
    "\n",
    "Inicialmente, vamos atribuir os valores do sinal $x(n)$ ao estágio inicial da treliça usando a sequência de bit reverso, ou seja:\n",
    "\n",
    "$X_0[0] = x(0)$\n",
    "\n",
    "$X_0[1] = x(4)$\n",
    "\n",
    "$X_0[2] = x(2)$\n",
    "\n",
    "$X_0[3] = x(6)$\n",
    "\n",
    "$X_0[4] = x(1)$\n",
    "\n",
    "$X_0[5] = x(5)$\n",
    "\n",
    "$X_0[6] = x(3)$\n",
    "\n",
    "$X_0[7] = x(7)$\n",
    "\n",
    "Agora, vamos representar a treliça que tem $\\log_2(N)$ estágios, representados na figura abaixo pelas linhas cores preta no preta no primeiro estágio, verde no segundo e amarelo no terceiro estágio. Na base da Figura estão as variações das variáveis em cada estágio.\n",
    "\n",
    "![title](img/Trelica1.png)\n",
    "\n",
    "\n",
    "Na Figura abaixo a treliça é repetida, porém apresenta-se como as variáveis se relacionam em cada estágio.\n",
    "\n",
    "![title](img/Trelica2.png)"
   ]
  },
  {
   "cell_type": "code",
   "execution_count": null,
   "metadata": {},
   "outputs": [],
   "source": []
  }
 ],
 "metadata": {
  "kernelspec": {
   "display_name": "Python 3",
   "language": "python",
   "name": "python3"
  },
  "language_info": {
   "codemirror_mode": {
    "name": "ipython",
    "version": 3
   },
   "file_extension": ".py",
   "mimetype": "text/x-python",
   "name": "python",
   "nbconvert_exporter": "python",
   "pygments_lexer": "ipython3",
   "version": "3.7.4"
  }
 },
 "nbformat": 4,
 "nbformat_minor": 2
}
