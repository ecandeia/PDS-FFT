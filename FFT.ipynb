{
 "cells": [
  {
   "cell_type": "markdown",
   "metadata": {},
   "source": [
    "# <font color =\"000ff\"> Transformada Rápida de Fourier</font>"
   ]
  },
  {
   "cell_type": "markdown",
   "metadata": {},
   "source": [
    "Vamos iniciar relembrando que a Transformada Discreta de Fourier (DFT) é uma representação **discreta** do espectro de frequências de sinais no tempo discreto $x(n)$, cuja expressão é dada por:"
   ]
  },
  {
   "cell_type": "markdown",
   "metadata": {},
   "source": [
    "$$X[k] = \\sum\\limits_{n=0}^{N-1}x(n)W_N^{kn},$$ sendo $W_N = e^{-j\\frac{2\\pi}{N}}$ e para calcular cada valor $X[k]$ são necessários\n",
    "1. $N$ multiplicações complexas, e\n",
    "2. $N-1$ adições complexas.\n",
    "\n",
    "\n",
    "Para obter todos os coeficientes $X[k]$, $k = 0, ..., N-1$ são necessários\n",
    "1. $N^2$ multiplicações complexas, e\n",
    "2. $(N-1)N$ adições complexas.\n",
    "\n",
    "Por isso dizemos que a DFT tem complexidade $O(N^2)$."
   ]
  },
  {
   "cell_type": "code",
   "execution_count": 4,
   "metadata": {},
   "outputs": [
    {
     "data": {
      "text/plain": [
       "Text(0, 0.5, 'O(N^2)')"
      ]
     },
     "execution_count": 4,
     "metadata": {},
     "output_type": "execute_result"
    },
    {
     "data": {
      "image/png": "[encoded data removed]",
      "text/plain": [
       "<Figure size 432x288 with 1 Axes>"
      ]
     },
     "metadata": {
      "needs_background": "light"
     },
     "output_type": "display_data"
    }
   ],
   "source": [
    "import numpy as np\n",
    "import matplotlib.pyplot as mplib\n",
    "N = 128;\n",
    "n = range(2,N-1)\n",
    "mplib.plot(n, np.power(n, 2))\n",
    "mplib.xlabel(\"N\")\n",
    "mplib.ylabel(\"O(N^2)\")"
   ]
  },
  {
   "cell_type": "markdown",
   "metadata": {},
   "source": [
    "Em 1965, é proposto um algoritmo rápido que reduz a complexidade do cálculo da DFT para $O(N.log_2 N)$."
   ]
  },
  {
   "cell_type": "code",
   "execution_count": 5,
   "metadata": {},
   "outputs": [
    {
     "data": {
      "text/plain": [
       "Text(0, 0.5, 'O(N^2)')"
      ]
     },
     "execution_count": 5,
     "metadata": {},
     "output_type": "execute_result"
    },
    {
     "data": {
      "image/png": "[encoded data removed]",
      "text/plain": [
       "<Figure size 432x288 with 1 Axes>"
      ]
     },
     "metadata": {
      "needs_background": "light"
     },
     "output_type": "display_data"
    }
   ],
   "source": [
    "import numpy as np\n",
    "\n",
    "import matplotlib.pyplot as mplib\n",
    "N = 16;\n",
    "n = range(2,N-1)\n",
    "mplib.plot(n, np.power(n, 2))\n",
    "mplib.plot(n, n*np.log2(n))\n",
    "mplib.xlabel(\"N\")\n",
    "mplib.ylabel(\"O(N^2)\")"
   ]
  },
  {
   "cell_type": "markdown",
   "metadata": {},
   "source": [
    "Esses algoritmos ficaram conhecidos como **Transformada Rápida de Fourier**, ou simplesmente **FFT** de *Fast Fourier Transform*."
   ]
  },
  {
   "cell_type": "markdown",
   "metadata": {},
   "source": [
    "Para entender os algoritmos da FFT consideremo o termo $W_N = e^{-j\\frac{2\\pi}{N}}$, que tem:\n",
    "\n",
    "1. $|W_N| = |e^{-j\\frac{2\\pi}{N}}|$;\n",
    "2. $\\angle W_N = arctg(\\frac{2\\pi}{N})$.\n",
    "\n",
    "E que pode ser interpretado como a divisão do círculo unitário em $N$ seções, cada uma com ângulo $\\angle W_N$. \n",
    "\n",
    "Os Algoritmos da FFT exploram esse fato, aplicando as seguintes relações:\n",
    "\n",
    "1. Simetria complexa conjugada: $W_N^{k(N-n)} = W_n^{-kn} = (W_N^{kn})^*$, ($()^*$ significa o conjugado complexo), e;\n",
    "2. Periodicidade em $k$ e $n$: $W_N^{kn} = W_N^{k(N + n)} = W_N^{(k + N)n}$.\n",
    "\n",
    "E a decomposição de uma DFT de $N$ pontos em DFTs de tamanhos menores."
   ]
  },
  {
   "cell_type": "markdown",
   "metadata": {},
   "source": [
    "Classes básicas:\n",
    "    \n",
    "1. FFT com decimação no tempo: $x(n)$ é sucessivamente decomposto em sequências menores\n",
    "2. FFT com decimação em frequência : $X[k]$ é decomposto em sequências menores\n",
    "    \n",
    "Algoritmos:\n",
    "    \n",
    "1. Goertzel(1958): $O(N^2)$\n",
    "2. **Cooley-Tukey(1965): Deu origem à decimação no tempo**\n",
    "3. Sande-Tukey(1966): Deu origem à decimação em frequência\n"
   ]
  },
  {
   "cell_type": "markdown",
   "metadata": {},
   "source": [
    "## FFT por Decimação no tempo"
   ]
  },
  {
   "cell_type": "markdown",
   "metadata": {},
   "source": [
    "Decomposição sucessiva de $x(n)$ em tamanhos menores, e para tanto se convenciona utilizar $N = 2^l$, sendo $l$ um inteiro positivo.\n",
    "\n",
    "### Algoritmo Raiz de 2 com decimação no tempo\n",
    "\n",
    "O sinal $x(n)$ de $N$ pontos é dividido em 2 sequências de $N/2$ pontos, uma relativa aos índices **pares** e outra relativa aos índices **impares**, assim\n",
    "\n",
    "$$X[k] = \\sum\\limits_{n=0}^{N-1}x(n)W_N^{kn}$$\n",
    "\n",
    "após a divisão\n",
    "\n",
    "$$X[k] = \\sum\\limits_{n\\ par}^{N/2-1}x(n)W_N^{kn} + \\sum\\limits_{n\\ ímpar}^{N/2-1}x(n)W_N^{kn}$$\n",
    "\n",
    "fazendo:\n",
    "$n = 2r$ para $n$ par, e;\n",
    "\n",
    "$n = (2r + 1)$ para $n$ ímpar,\n",
    "\n",
    "temos\n",
    "\n",
    "$X[k] = \\sum\\limits_{r=0}^{N/2-1}x(2r)W_N^{k2r} + \\sum\\limits_{r=0}^{N/2-1}x(2r+1)W_N^{k(2r+1)}$\n",
    "\n",
    "$X[k] = \\sum\\limits_{r=0}^{N/2-1}x(2r)(W_N^2)^{k r} + W_N^k\\sum\\limits_{r=0}^{N/2-1}x(2r+1)(W_N^2)^{k r}$\n",
    "\n",
    "Como $W_N^2 = W_{N/2}$ temos\n",
    "\n",
    "$X[k] = \\sum\\limits_{r=0}^{N/2-1}x(2r)(W_{N/2})^{k r} + W_N^k\\sum\\limits_{r=0}^{N/2-1}x(2r+1)(W_{N/2})^{k r}$\n",
    "\n",
    "representando as componentes pares e ímpares de $x(n)$ por\n",
    "\n",
    "$x_e(n) = x(2n)$, $n = 0, 1, ..., N/2 -1$, e\n",
    "\n",
    "$x_o(n) = x(2n + 1)$, $n = 0, 1, ..., N/2 -1$\n",
    "\n",
    "Temos\n",
    "\n",
    "$X[k] = \\sum\\limits_{r=0}^{N/2-1}x_e(n)(W_{N/2})^{k r} + W_N^k\\sum\\limits_{r=0}^{N/2-1}x_o(n)(W_{N/2})^{k r}$\n",
    "\n",
    "Vamos denominar:\n",
    "\n",
    "$X_e[k] = \\sum\\limits_{r=0}^{N/2-1}x_e(n)(W_{N/2})^{k r}$,e \n",
    "\n",
    "$X_o[k] = \\sum\\limits_{r=0}^{N/2-1}x_o(n)(W_{N/2})^{k r}$\n",
    "\n",
    "cada uma sendo uma DFT de $N/2$ pontos\n",
    "\n",
    "e\n",
    "\n",
    "$X[k] = X_e[k] + W_N^kX_o[k]$\n",
    "\n",
    "sendo $X_e[k] = X_e[k + N/2]$ e $X_o[k] = X_o[k + N/2]$"
   ]
  },
  {
   "cell_type": "markdown",
   "metadata": {},
   "source": [
    "###  <center><font color=#0000ff> Para $N = 2$ </font></center>\n",
    "\n",
    "pelo cálculo da DFT temos:\n",
    "\n",
    "$X[0] = \\sum\\limits_{n=0}^{1}x(n)W_2^{0} = x(0) + x(1)$\n",
    "\n",
    "$X[1] = \\sum\\limits_{n=0}^{1}x(n)W_2^{1} = x(0) - x(1)$\n",
    "\n",
    "Usando e FFT temos \n",
    "\n",
    "$X[0] = X_e[0] + W_2^0 X_o[0]$\n",
    "\n",
    "$X[1] = X_e[1] + W_2^1 X_o[1]$\n",
    "\n",
    "representado na figura a seguir."
   ]
  },
  {
   "cell_type": "markdown",
   "metadata": {},
   "source": [
    "![title](img/FFTN2.png)"
   ]
  },
  {
   "cell_type": "markdown",
   "metadata": {},
   "source": [
    "###  <center><font color=#0000ff>Para $N = 4$ </font></center>\n",
    "\n",
    "Lembrando\n",
    "\n",
    "$X[k] = X_e[k] + W_N^kX_o[k]$\n",
    "\n",
    "sendo $X_e[k] = X_e[k + N/2]$ e $X_o[k] = X_o[k + N/2]$\n",
    "\n",
    "Usando e FFT temos \n",
    "\n",
    "$X[0] = X_e[0] + W_4^0 X_o[0] $ \n",
    "\n",
    "$X[1] = X_e[1] + W_4^1 X_o[1]$ \n",
    "\n",
    "$X[2] = X_e[2] + W_4^2 X_o[2] = X_e[0] + W_4^2 X_o[0]$      <font color = \"0000ff\"> Devido a simetria X[k + N/2] = X[k]$</font>\n",
    "\n",
    "$X[2] = X_e[3] + W_4^3 X_o[3] = X_e[1] + W_4^2 X_o[1]$       <font color = \"0000ff\"> Devido a simetria X[k + N/2] = X[k]$</font>"
   ]
  },
  {
   "cell_type": "markdown",
   "metadata": {},
   "source": [
    "![title](img/TrelicaFFTN4.png)"
   ]
  },
  {
   "cell_type": "markdown",
   "metadata": {},
   "source": [
    "Observando as duas estruturas acima, vemos que para uma FFT de tamanho $N$, são necessários $\\log_2(N)$ estágios, e em cada estágio, a partir dos valores do ainsl, são realizadas DFTs de tamanhos $2, 4, 8, ..., N$.\n",
    "\n",
    "Para o primeiro estágio, FFT de tamanho $N_1 = 2$, para calcular $X_e[k]$ $k = 0, 1$ usa-se as posições de entrada 0 (quen contém $x(0)$) e 1 (que contém $x(2)$), já $X_o[k]$ usa as posições 2 (que contém $x(1)$) e 3 (que contém $x(3)$), houve um deslocamento de $N_1/2$ na posições de entrada.\n",
    "\n",
    "No segundo estágio, FFTs de tamanho $N_2 = 4$ e nesse caso já o resultado da FFT, $X[k],\\ k = 0,1 2,3$ para cada $k$, envolve as **posições anteriores** $k$ e $(k+ N_2/2) mod\\ N_2$\n",
    "\n",
    "Pelo cálculo da DFT temos:\n",
    "\n",
    "$X[0] = \\sum\\limits_{n=0}^{3}x(n)W_4^{0} = x(0) + x(1) + x(2) + x(3) = x(0) + x(2) + x(1) + x(3)$\n",
    "\n",
    "$X[1] = \\sum\\limits_{n=0}^{3}x(n)W_4^{n} = x(0) + x(1)W_4^{1}  + x(2)W_4^{2} + x(3)W_4^{3} =  \n",
    "x(0) - x(2) -j[x(1) - x(3)]$\n",
    "\n",
    "$X[2] = \\sum\\limits_{n=0}^{3}x(n)W_4^{2n} = x(0) + x(1)W_4^{2} + x(2W_4^{4}) + x(3)W_4^{6} = x(0) + x(2) -[x(1) + x(3)]$\n",
    "\n",
    "$X[3] = \\sum\\limits_{n=0}^{3}x(n)W_4^{3n} = x(0) + x(1)W_4^{3} + x(2)W_4^{6} + x(3)W_4^{9} = x(0) - x(2) + j[x(1) - x(3)]$"
   ]
  },
  {
   "cell_type": "markdown",
   "metadata": {},
   "source": [
    "$X_e[k] = \\sum\\limits_{r=0}^{1}x_e(n)(W_{2})^{k r}$, e $X_o[k] = \\sum\\limits_{r=0}^{1}x_o(n)(W_{2})^{k r}$\n",
    "\n",
    "e\n",
    "\n",
    "$X_e[0] = x(0) + x(2)$, e $X_e[1] = x(0) - x(2)$\n",
    "\n",
    "$X_o[0] = x(1) + x(3)$, e $X_e[1] = x(1) - jx(3)$\n",
    "\n",
    "Veja na Figura acima que na entrada do primeiro estágio, os índices de $x(n)$ aparecem numa sequência obtida pelo reverso dos bits de 0 a 4, ou seja, considerando $X_0[k]$ como primeiro estágio temos\n",
    "$$X_0[00_2] = x(00_2)$$\n",
    "$$X_0[01_2] = x(10_2)$$\n",
    "$$X_0[10_2] = x(01_2)$$\n",
    "$$X_0[11_2] = x(11_2)$$\n",
    "Essa regra serve para qualquer implementação de FFT pelo método de decimação no tempo."
   ]
  },
  {
   "cell_type": "markdown",
   "metadata": {},
   "source": [
    "###  <center><font color=#0000ff>  N = 8 </font></center>\n",
    "\n",
    "Para $N = 8$ vamos usar a borboleta otimizada mostrada na Figura abaixo (Fig. 9.12, pp.431 Livro Texto)\n",
    "\n",
    "Sendo \n",
    "\n",
    "$X_m[p] = X_{m-1}[p] + W_N^rX_{m-1}[q]$\n",
    "\n",
    "$X_m[q] = X_{m-1}[p] - W_N^r X_{m-1}[q]$"
   ]
  },
  {
   "cell_type": "markdown",
   "metadata": {},
   "source": [
    "Precisamos avaliar como variam $m$, $p$, $q$ e $r$. Inicialmente, vamos atribuir os valore do sinal $x(n)$ ao estágio inicial da treliça, usando a sequência obtida pela inversão da ordem dos bits dos índices de $x(n)$, ou seja:\n",
    "\n",
    "$X_0[0] = x(0)$\n",
    "\n",
    "$X_0[1] = x(4)$\n",
    "\n",
    "$X_0[2] = x(2)$\n",
    "\n",
    "$X_0[3] = x(6)$\n",
    "\n",
    "$X_0[4] = x(1)$\n",
    "\n",
    "$X_0[5] = x(5)$\n",
    "\n",
    "$X_0[6] = x(3)$\n",
    "\n",
    "$X_0[7] = x(7)$\n",
    "\n",
    "e representara a treliça, que tem $log_2(N)$ estágios, no para $N = 8$ teremos 3 estágios, qu estão representados a seguir."
   ]
  },
  {
   "cell_type": "markdown",
   "metadata": {},
   "source": [
    "![title](img/FFTN8peq.png)"
   ]
  },
  {
   "cell_type": "markdown",
   "metadata": {},
   "source": [
    "Repetindo a treliça apresentando somente os valore de $p$ e $q$ em cada estágio."
   ]
  },
  {
   "cell_type": "markdown",
   "metadata": {},
   "source": [
    "**Questão:** Como implementar um código para um $N$ qualquer?"
   ]
  },
  {
   "cell_type": "markdown",
   "metadata": {},
   "source": [
    "## Testando a implementação\n",
    "\n",
    "Para avaliar a implementação da FFT podemos usar sinais conhecidos, como uma constante, um impulso ou uma senóide para os quais conhecemos a transformada. Porém alguns cuidados deverm ser tomados, por exemplo, inicialmente deve-se observar que a saída da FFT é um conjunto de números complexos, logo devemos analisar o módulo e a fase da resposta. \n",
    "\n",
    "Ao aplicar um sinal constante obteremos na saída um impulso, com $X(k) = N.\\delta(k)$  e fase zero."
   ]
  },
  {
   "cell_type": "code",
   "execution_count": 10,
   "metadata": {},
   "outputs": [
    {
     "data": {
      "image/png": "[encoded data removed]",
      "text/plain": [
       "<Figure size 1152x216 with 2 Axes>"
      ]
     },
     "metadata": {
      "needs_background": "light"
     },
     "output_type": "display_data"
    }
   ],
   "source": [
    "import numpy as np\n",
    "import matplotlib.pyplot as plt\n",
    "import scipy as scp\n",
    "\n",
    "L = 64 # Quantidade de pontos no sinal = Tamanho da FFT\n",
    "N = 64 # Tamanho da DFT\n",
    "\n",
    "fig,ax=plt.subplots(2)\n",
    "fig.set_size_inches((16,3))\n",
    "\n",
    "n = np.arange(0,L)\n",
    "\n",
    "xn = np.ones(L)\n",
    "Xomega = scp.fft(xn, L)\n",
    "\n",
    "\n",
    "ax[0].stem(abs(Xomega),label='DFT(x(n))',use_line_collection=True,)\n",
    "ax[0].set_xlabel('k',fontsize=18)\n",
    "ax[0].set_ylabel(r'$|X[k]|$',fontsize=18)\n",
    "#ax[0].set_title('DFT Sinal Janelado',fontsize=18)\n",
    "ax[0].grid()\n",
    "ax[0].legend(loc=0);\n",
    "\n",
    "ax[1].stem(np.angle(Xomega),label='DFT(x(n))',use_line_collection=True,)\n",
    "ax[1].set_xlabel('k',fontsize=18)\n",
    "ax[1].set_ylabel(r'$\\angle X[k]$',fontsize=18)\n",
    "#ax[1].set_title('DFT Sinal Janelado',fontsize=18)\n",
    "ax[1].grid()\n",
    "ax[1].legend(loc=0);"
   ]
  },
  {
   "cell_type": "markdown",
   "metadata": {},
   "source": [
    "Um segundo teste é usar o teorema da dualidade da transformada de Fourier, e aplicar um impulso na entrada e observar que na saída obtem-se uma constante.\n",
    "\n",
    "Neste momento deve-se observar o valor do impulso, pois em algumas implementações, ser for colocar $x(n) = \\delta(n)$, o valor da FFT pode ser muito pequeno, aparecendo nulo. Isso se deve ao fato que a existe um parâmetro $\\frac{1}{N}$ na relação da transformada inversa, ou seja, para garantir que aplicar um impulso na entrada será obtido uma constante na FFT, deve-se aplicar $x(n) = N\\delta(n)$."
   ]
  },
  {
   "cell_type": "code",
   "execution_count": 13,
   "metadata": {},
   "outputs": [
    {
     "data": {
      "image/png": "[encoded data removed]",
      "text/plain": [
       "<Figure size 1152x216 with 2 Axes>"
      ]
     },
     "metadata": {
      "needs_background": "light"
     },
     "output_type": "display_data"
    }
   ],
   "source": [
    "import numpy as np\n",
    "import matplotlib.pyplot as plt\n",
    "import scipy as scp\n",
    "\n",
    "L = 64 # Quantidade de pontos no sinal = Tamanho da FFT\n",
    "N = 64 # Tamanho da DFT\n",
    "\n",
    "fig,ax=plt.subplots(2)\n",
    "fig.set_size_inches((16,3))\n",
    "\n",
    "n = np.arange(0,L)\n",
    "\n",
    "#Sinal de entrada\n",
    "xn = np.zeros(L)\n",
    "xn[0] = 1 # apenas a primeira componente não zero, para emular um impulso\n",
    "Xomega = scp.fft(xn, L)\n",
    "\n",
    "\n",
    "ax[0].stem(abs(Xomega),label='DFT(x(n))',use_line_collection=True,)\n",
    "ax[0].set_xlabel('k',fontsize=18)\n",
    "ax[0].set_ylabel(r'$|X[k]|$',fontsize=18)\n",
    "#ax[0].set_title('DFT Sinal Janelado',fontsize=18)\n",
    "ax[0].grid()\n",
    "ax[0].legend(loc=0);\n",
    "\n",
    "ax[1].stem(np.angle(Xomega),label='DFT(x(n))',use_line_collection=True,)\n",
    "ax[1].set_xlabel('k',fontsize=18)\n",
    "ax[1].set_ylabel(r'$\\angle X[k]$',fontsize=18)\n",
    "#ax[1].set_title('DFT Sinal Janelado',fontsize=18)\n",
    "ax[1].grid()\n",
    "ax[1].legend(loc=0);"
   ]
  },
  {
   "cell_type": "markdown",
   "metadata": {},
   "source": [
    "Outro ponto a se testar é a mudança no sinal de entrada para verificar se os índices foram corretamente ajustados na entrada da FFT. Por exemplo, considerando a propriededa do deslocamenteo no tempo da Transformada de Fourier\n",
    "$$ x(n) \\leftrightarrow X(j\\omega)$$\n",
    "$$ x(n - n_0) \\leftrightarrow e^{-j\\omega n_0}X(j\\omega),$$\n",
    "se aplicarmos um sinal $x(n) = \\delta(n -1)$, temos um impulso deslocado de uma posição, cujo módulo da transformada continua unitário, porém deve aparecer uma componente de fase relativo ao deslocamento com o valor\n",
    "$$tg^{-1}(\\frac{2\\pi k}{N}).$$"
   ]
  },
  {
   "cell_type": "code",
   "execution_count": 14,
   "metadata": {},
   "outputs": [
    {
     "data": {
      "image/png": "[encoded data removed]",
      "text/plain": [
       "<Figure size 1152x216 with 2 Axes>"
      ]
     },
     "metadata": {
      "needs_background": "light"
     },
     "output_type": "display_data"
    }
   ],
   "source": [
    "import numpy as np\n",
    "import matplotlib.pyplot as plt\n",
    "import scipy as scp\n",
    "\n",
    "L = 64 # Quantidade de pontos no sinal = Tamanho da FFT\n",
    "N = 64 # Tamanho da DFT\n",
    "\n",
    "fig,ax=plt.subplots(2)\n",
    "fig.set_size_inches((16,3))\n",
    "\n",
    "n = np.arange(0,L)\n",
    "\n",
    "#Sinal de entrada\n",
    "xn = np.zeros(L)\n",
    "xn[1] = 1 # Emulaçao de um impulso deslocado\n",
    "Xomega = scp.fft(xn, L)\n",
    "\n",
    "\n",
    "ax[0].stem(abs(Xomega),label='DFT(x(n))',use_line_collection=True,)\n",
    "ax[0].set_xlabel('k',fontsize=18)\n",
    "ax[0].set_ylabel(r'$|X[k]|$',fontsize=18)\n",
    "#ax[0].set_title('DFT Sinal Janelado',fontsize=18)\n",
    "ax[0].grid()\n",
    "ax[0].legend(loc=0);\n",
    "\n",
    "ax[1].stem(np.angle(Xomega),label='DFT(x(n))',use_line_collection=True,)\n",
    "ax[1].set_xlabel('k',fontsize=18)\n",
    "ax[1].set_ylabel(r'$\\angle X[k]$',fontsize=18)\n",
    "#ax[1].set_title('DFT Sinal Janelado',fontsize=18)\n",
    "ax[1].grid()\n",
    "ax[1].legend(loc=0);"
   ]
  },
  {
   "cell_type": "code",
   "execution_count": null,
   "metadata": {},
   "outputs": [],
   "source": []
  }
 ],
 "metadata": {
  "kernelspec": {
   "display_name": "Python 3",
   "language": "python",
   "name": "python3"
  },
  "language_info": {
   "codemirror_mode": {
    "name": "ipython",
    "version": 3
   },
   "file_extension": ".py",
   "mimetype": "text/x-python",
   "name": "python",
   "nbconvert_exporter": "python",
   "pygments_lexer": "ipython3",
   "version": "3.7.4"
  }
 },
 "nbformat": 4,
 "nbformat_minor": 2
}
