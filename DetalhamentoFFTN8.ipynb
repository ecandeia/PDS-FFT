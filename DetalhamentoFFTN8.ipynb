{
 "cells": [
  {
   "cell_type": "markdown",
   "metadata": {},
   "source": [
    "# <font color=#0000ff>Transformada Discreta de Fourier - Detalhamento para $N = 8$</font>"
   ]
  },
  {
   "cell_type": "markdown",
   "metadata": {},
   "source": [
    "Nesse texto será feito o detlhamento para a FFT de tamanho $N = 8$. Aconselhamos a leitura somente caso tenha havido dificuldade em entender a forma de implementar o algoritmo, e de que o leitor tenha desenhado todo o processo (treliça)."
   ]
  },
  {
   "cell_type": "markdown",
   "metadata": {},
   "source": [
    "Partiremos da deinição\n",
    "$$X[k] = \\sum\\limits_{n=0}^{N-1}x(n)W_N^{kn},$$ sendo $W_N = e^{-j\\frac{2\\pi}{N}}.$\n",
    " \n",
    "Que para $N = 8$ se torna\n",
    "Para um determinado $k$ temos\n",
    "$$X[k] = \\sum\\limits_{n=0}^{7}x(n)W_8^{kn}.$$\n",
    "\n",
    "Após a primeira divisão em duas FFTs de tamanho $N=4$ obtemos:\n",
    "$$X[k] = \\sum\\limits_{n=0}^{3}x(2n)W_8^{2kn} + \\sum\\limits_{n=0}^{3}x(2(n+1))W_8^{2k(n+1)},$$\n",
    "e ajustando os termos chegamos a\n",
    "$$X[k] = \\sum\\limits_{n=0}^{3}x(2n)W_4^{kn} + W_4^{k}\\sum\\limits_{n=0}^{3}x(2(n+1))W_4^{kn},$$\n",
    "\n",
    "\n",
    "Aqui foi feito $W_8^{2k} = W_4^{k}$.\n",
    "\n",
    "Agora, vamos chamar $x(2n)$ de $x_p(n)$, sendo $p$ de par, e $x(2(n+1))$ de $x_i(n)$, sendo $i$ de ímpar, obtendo.\n",
    "$$X[k] = \\sum\\limits_{n=0}^{3}x_p(n)W_4^{kn} + W_4^{k}\\sum\\limits_{n=0}^{3}x_i(n)W_4^{kn},$$\n",
    "Aplicando mais uma divisão chegamos a\n",
    "$$X[k] = \\sum\\limits_{n=0}^{1}x_p(2n)W_4^{2kn} + \\sum\\limits_{n=0}^{1}x_p(2(n+1))W_4^{2k(n+1)}+  W_4^{k}\\left[\\sum\\limits_{n=0}^{2}x_i(2n)W_4^{2kn} + \\sum\\limits_{n=0}^{1}x_i(2(n+1))W_4^{2k(n+1)}\\right],$$\n",
    "novamente reorgnizando os temos chegamos a\n",
    "$$X[k] = \\sum\\limits_{n=0}^{1}x_p(2n)W_2^{kn} + W_2^{k}\\sum\\limits_{n=0}^{1}x_p(2(n+1))W_2^{kn}+  W_4^{k}\\left[\\sum\\limits_{n=0}^{1}x_i(2n)W_2^{kn} + W_2^{k}\\sum\\limits_{n=0}^{1}x_i(2(n+1))W_2^{kn}\\right],$$\n",
    "para clarear essa eqação, vamos adotar a notação que combina pares e ímpares, ou seja, teremos os termos:\n",
    "- Pares dos pares $x_{pp}(n) = x_p(2n)$;\n",
    "- Ímpres dos pares $x_{pi}(n) = x_p(2(n+1)$;\n",
    "- Pares dos ímpares $x_{ip}(n) = x_i(2n)$;\n",
    "- Ímpares dos ímpares $x_{ii}(n) = x_i(2(n+1))$.\n",
    "e chegamos a\n",
    "$$X[k] = \\sum\\limits_{n=0}^{1}x_{pp}(n)W_2^{kn} + W_2^{k}\\sum\\limits_{n=0}^{1}x_{pi}(n))W_2^{kn}+  W_4^{k}\\left[\\sum\\limits_{n=0}^{1}x_{ip}(n)W_2^{kn} + W_2^{k}\\sum\\limits_{n=0}^{1}x_{ii}(n)W_2^{kn}\\right],$$\n"
   ]
  },
  {
   "cell_type": "markdown",
   "metadata": {},
   "source": [
    "Deixemos registrado que no exemplo ($ N = 8$) temos\n",
    "- Pares dos pares $x_{pp}(0) = x(0)$, e $x_{pp}(1) = x(4)$;\n",
    "- Ímpres dos pares $x_{pi}(0) = x(2)$, e $x_{pp}(1) = x(6)$;\n",
    "- Pares dos ímpares $x_{ip}(0) = x(1)$, e $x_{pp}(1) = x(5)$;\n",
    "- Ímpares dos ímpares $x_{ii}(0) = x(3)$, e $x_{pp}(1) = x(7)$.\n",
    "\n",
    "O que reflete a entrada na forma de bit reverso."
   ]
  },
  {
   "cell_type": "markdown",
   "metadata": {},
   "source": [
    "Seguindo no detalhamento, vejamos a formação do valor de $X(k)$, para $k = 0$ ($X(0)$).\n",
    "\n",
    "$$X[0] = \\sum\\limits_{n=0}^{1}x_p(2n)W_2^{0} + W_2^{0}\\sum\\limits_{n=0}^{1}x_p(2(n+1))W_2^{0}+  W_4^{0}\\left[\\sum\\limits_{n=0}^{1}x_i(2n)W_2^{0} + W_2^{0}\\sum\\limits_{n=0}^{1}x_i(2(n+1))W_2^{0}\\right],$$\n",
    "abrindo a equação\n",
    "$$X[0] = x_{pp}(0)W_2^{0} +  x_{pp}(1)W_2^{0} + W_2^{0}\\left[x_{pi}(0)W_2^{0} + x_{pi}(1)W_2^{0}\\right] + W_4^{0}\\left[x_{ip}(0)W_2^{0} + x_{pi}(1)W_2^{0} + W_2^{0}\\left(x_{ii}(0)W_2^{0} + x_{ii}(1)W_2^{0}\\right)\\right],$$\n",
    "ou ainda\n",
    "$$X[0] = x(0)W_2^{0} +  x(4)W_2^{0} + W_2^{0}\\left[x(2)W_2^{0} + x(6)W_2^{0}\\right] + W_4^{0}\\left[x(1)W_2^{0} + x(5)W_2^{0} + W_2^{0}\\left(x(3)W_2^{0} + x(7)W_2^{0}\\right)\\right],$$\n"
   ]
  },
  {
   "cell_type": "markdown",
   "metadata": {},
   "source": [
    "Vejamos agora, como fica o desenho da treliça considerando somente o cálculo de $X[0]$\n",
    "![title](img/N8X0.png)"
   ]
  },
  {
   "cell_type": "markdown",
   "metadata": {},
   "source": [
    "Seguindo no detalhamento, vejamos a formação do valor de $X(1)$.\n",
    "\n",
    "$$X[1] = \\sum\\limits_{n=0}^{1}x_p(2n)W_2^{n} + W_2^{1}\\sum\\limits_{n=0}^{1}x_p(2(n+1))W_2^{n}+  W_4^{1}\\left[\\sum\\limits_{n=0}^{1}x_i(2n)W_2^{n} + W_2^{1}\\sum\\limits_{n=0}^{1}x_i(2(n+1))W_2^{n}\\right],$$\n",
    "abrindo a equação\n",
    "$$X[1] = x_{pp}(0)W_2^{0} +  x_{pp}(1)W_2^{1} + W_2^{0}\\left[x_{pi}(0)W_2^{0} + x_{pi}(1)W_2^{1}\\right] + W_4^{1}\\left[x_{ip}(0)W_2^{0} + x_{pi}(1)W_2^{1}\\right] + W_2^{1}\\left[x_{ii}(0)W_2^{0} + x_{ii}(1)W_2^{1}\\right],$$\n",
    "ou ainda\n",
    "$$X[1] = x(0)W_2^{0} +  x(4)W_2^{1} + W_2^{1}\\left[x(2)W_2^{0} + x(6)W_2^{1}\\right] + W_4^1\\left[x(1)W_2^{0} + x(5)W_2^{1} + W_2^{1}\\left(x(3)W_2^{0} + x(7)W_2^{1}\\right)\\right],$$\n"
   ]
  },
  {
   "cell_type": "markdown",
   "metadata": {},
   "source": [
    "Vejamos agora, como fica o desenho da treliça considerando somente o cálculo de $X[1]$\n",
    "![title](img/N8X1.png)"
   ]
  },
  {
   "cell_type": "markdown",
   "metadata": {},
   "source": [
    "Seguindo no detalhamento, vejamos a formação do valor de $X(2)$.\n",
    "\n",
    "$$X[2] = x(0)W_2^{0} +  x(4)W_2^{2} + W_2^{2}\\left[x(2)W_2^{0} + x(6)W_2^{2}\\right] + W_4^{2}\\left[x(1)W_2^{0} + x(5)W_2^{2} + W_2^{2}\\left(x(3)W_2^{0} + x(7)W_2^{2}\\right)\\right],$$\n",
    "mas $W_2^{2} = W_2^{0} = 1$, assim\n",
    "$$X[2] = x(0)W_2^{0} +  x(4)W_2^{0} + W_2^{0}\\left[x(2)W_2^{0} + x(6)W_2^{0}\\right] + W_4^{2}\\left[x(1)W_2^{0} + x(5)W_2^{0} + W_2^{0}\\left(x(3)W_2^{0} + x(7)W_2^{0}\\right)\\right],$$"
   ]
  },
  {
   "cell_type": "markdown",
   "metadata": {},
   "source": [
    "Vejamos agora, como fica o desenho da treliça considerando somente o cálculo de $X[2]$\n",
    "![title](img/N8X2.png)"
   ]
  },
  {
   "cell_type": "markdown",
   "metadata": {},
   "source": [
    "Seguindo no detalhamento, vejamos a formação do valor de $X(3)$.\n",
    "\n",
    "$$X[3] = x(0)W_2^{0} +  x(4)W_2^{3} + W_2^{3}\\left[x(2)W_2^{0} + x(6)W_2^{3}\\right] + W_4^{3}\\left[x(1)W_2^{0} + x(5)W_2^{3} + W_2^{3}\\left(x(3)W_2^{0} + x(7)W_2^{3}\\right)\\right],$$\n",
    "mas $W_2^{3} = W_2^{1}$, assim\n",
    "$$X[3] = x(0)W_2^{0} +  x(4)W_2^{1} + W_2^{3}\\left[x(2)W_2^{0} + x(6)W_2^{1}\\right] + W_4^{3}\\left[x(1)W_2^{0} + x(5)W_2^{1} + W_2^{3}\\left(x(3)W_2^{0} + x(7)W_2^{1}\\right)\\right],$$"
   ]
  },
  {
   "cell_type": "markdown",
   "metadata": {},
   "source": [
    "Vejamos agora, como fica o desenho da treliça considerando somente o cálculo de $X[3]$\n",
    "![title](img/N8X3.png)"
   ]
  },
  {
   "cell_type": "markdown",
   "metadata": {},
   "source": [
    "Nesse ponto é importante que o leitor continue o desenvolvimento e faça as otimizações, leia-se os valores de $W_N$."
   ]
  },
  {
   "cell_type": "markdown",
   "metadata": {},
   "source": [
    "$$X[4] = x(0)W_2^{0} +  x(4)W_2^{4} + W_2^{4}\\left[x(2)W_2^{0} + x(6)W_2^{4}\\right] + W_4^{4}\\left[x(1)W_2^{0} + x(5)W_2^{4} + W_2^{4}\\left(x(3)W_2^{0} + x(7)W_2^{4}\\right)\\right],$$\n",
    "<p>\n",
    "<p>\n",
    "$$X[5] = x(0)W_2^{0} +  x(4)W_2^{5} + W_2^{5}\\left[x(2)W_2^{0} + x(6)W_2^{5}\\right] + W_4^{5}\\left[x(1)W_2^{0} + x(5)W_2^{5} + W_2^{5}\\left(x(3)W_2^{0} + x(7)W_2^{5}\\right)\\right],$$\n",
    "<p>\n",
    "<p>\n",
    "$$X[6] = x(0)W_2^{0} +  x(4)W_2^{6} + W_2^{6}\\left[x(2)W_2^{0} + x(6)W_2^{6}\\right] + W_4^{6}\\left[x(1)W_2^{0} + x(5)W_2^{6} + W_2^{6}\\left(x(3)W_2^{0} + x(7)W_2^{6}\\right)\\right],$$\n",
    "<p>\n",
    "<p>\n",
    "$$X[7] = x(0)W_2^{0} +  x(4)W_2^{7} + W_2^{7}\\left[x(2)W_2^{0} + x(6)W_2^{7}\\right] + W_4^{7}\\left[x(1)W_2^{0} + x(5)W_2^{7} + W_2^{7}\\left(x(3)W_2^{0} + x(7)W_2^{7}\\right)\\right],$$"
   ]
  },
  {
   "cell_type": "markdown",
   "metadata": {},
   "source": [
    "As equações otimizadas chegam a \n",
    "\n",
    "$$X[0] = x(0) +  x(4) + \\left[x(2) + x(6)\\right] + \\left[x(1)W_2^{0} + x(5) + \\left(x(3) + x(7)\\right)\\right],$$\n",
    "<p><p>\n",
    "$$X[1] = x(0) +  x(4)W_2^{1} + W_2^{1}\\left[x(2) + x(6)W_2^{1}\\right] + W_4^1\\left[x(1) + x(5)W_2^{1} + W_2^{1}\\left(x(3) + x(7)W_2^{1}\\right)\\right],$$\n",
    "<p><p>\n",
    "$$X[2] = x(0) +  x(4) + \\left[x(2) + x(6)\\right] + W_4^{2}\\left[x(1) + x(5)W_2^{0} + \\left(x(3) + x(7)\\right)\\right],$$\n",
    "<p>\n",
    "<p>\n",
    "$$X[3] = x(0) +  x(4)W_2^{1} + W_2^{1}\\left[x(2) + x(6)W_2^{1}\\right] + W_4^{3}\\left[x(1) + x(5)W_2^{1} + W_2^{1}\\left(x(3) + x(7)W_2^{1}\\right)\\right],$$\n",
    "<p><p>\n",
    "$$X[4] = x(0) +  x(4) + \\left[x(2) + x(6)\\right] + W_4^{4}\\left[x(1) + x(5) + \\left(x(3) + x(7)\\right)\\right],$$\n",
    "<p>\n",
    "<p>\n",
    "$$X[5] = x(0) +  x(4)W_2^{1} + W_2^{1}\\left[x(2) + x(6)W_2^{1}\\right] + W_4^{5}\\left[x(1) + x(5)W_2^{1} + W_2^{1}\\left(x(3) + x(7)W_2^{1}\\right)\\right],$$\n",
    "<p>\n",
    "<p>\n",
    "$$X[6] = x(0) +  x(4)W_2^{6} + W_2^{6}\\left[x(2)W_2^{0} + x(6)W_2^{6}\\right] + W_4^{6}\\left[x(1)W_2^{0} + x(5)W_2^{6} + W_2^{6}\\left(x(3)W_2^{0} + x(7)W_2^{6}\\right)\\right],$$\n",
    "<p>\n",
    "<p>\n",
    "$$X[7] = x(0) +  x(4)W_2^{7} + W_2^{7}\\left[x(2)W_2^{0} + x(6)W_2^{7}\\right] + W_4^{7}\\left[x(1)W_2^{0} + x(5)W_2^{7} + W_2^{7}\\left(x(3)W_2^{0} + x(7)W_2^{7}\\right)\\right],$$"
   ]
  },
  {
   "cell_type": "code",
   "execution_count": null,
   "metadata": {},
   "outputs": [],
   "source": []
  }
 ],
 "metadata": {
  "kernelspec": {
   "display_name": "Python 3",
   "language": "python",
   "name": "python3"
  },
  "language_info": {
   "codemirror_mode": {
    "name": "ipython",
    "version": 3
   },
   "file_extension": ".py",
   "mimetype": "text/x-python",
   "name": "python",
   "nbconvert_exporter": "python",
   "pygments_lexer": "ipython3",
   "version": "3.7.4"
  }
 },
 "nbformat": 4,
 "nbformat_minor": 2
}
